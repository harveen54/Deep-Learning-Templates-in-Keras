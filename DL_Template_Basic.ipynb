{
 "cells": [
  {
   "cell_type": "markdown",
   "metadata": {},
   "source": [
    "# Deep Learning Template for Unstructured Data in Keras"
   ]
  },
  {
   "cell_type": "markdown",
   "metadata": {},
   "source": [
    "## Step 0: Import Libraries"
   ]
  },
  {
   "cell_type": "code",
   "execution_count": 100,
   "metadata": {},
   "outputs": [],
   "source": [
    "import keras\n",
    "import cv2 as cv2\n",
    "import numpy as np\n",
    "import pandas as pd\n",
    "import sklearn\n",
    "import os\n",
    "\n",
    "from sklearn.preprocessing import LabelBinarizer\n",
    "from zipfile import ZipFile\n",
    "from urllib.request import urlretrieve\n",
    "\n",
    "from keras.layers.convolutional import Convolution2D,Cropping2D\n",
    "from keras.layers.core import Flatten,Dense,Dropout\n",
    "from keras.layers.pooling import MaxPooling2D\n",
    "from keras.layers import Input\n",
    "from keras.models import Model\n",
    "from keras.regularizers import *\n",
    "from tqdm import tqdm\n",
    "from sklearn.preprocessing import LabelEncoder, OneHotEncoder\n",
    "from sklearn.model_selection import train_test_split"
   ]
  },
  {
   "cell_type": "markdown",
   "metadata": {},
   "source": [
    "## Step 1: Download DataSet"
   ]
  },
  {
   "cell_type": "code",
   "execution_count": 54,
   "metadata": {},
   "outputs": [],
   "source": [
    "class TqdmUpTo(tqdm):\n",
    "    \"\"\"Provides `update_to(n)` which uses `tqdm.update(delta_n)`.\"\"\"\n",
    "    def update_to(self, b=1, bsize=1, tsize=None):\n",
    "        \"\"\"\n",
    "        b  : int, optional\n",
    "            Number of blocks transferred so far [default: 1].\n",
    "        bsize  : int, optional\n",
    "            Size of each block (in tqdm units) [default: 1].\n",
    "        tsize  : int, optional\n",
    "            Total size (in tqdm units). If [default: None] remains unchanged.\n",
    "        \"\"\"\n",
    "        if tsize is not None:\n",
    "            self.total = tsize\n",
    "        self.update(b * bsize - self.n)  # will also set self.n = b * bsize\n",
    "\n",
    "def downloadDataset(url, filename):\n",
    "    if not os.path.isfile(filename):\n",
    "        print(\"Downloading file... \" + filename + \" ...\")\n",
    "        with TqdmUpTo(unit='B', unit_scale=True, unit_divisor=1024, miniters=1,desc='data.zip') as t:  # all optional kwargs\n",
    "            urlretrieve(url,filename, reporthook=t.update_to, data=None)\n",
    "        print(\"File downloaded\")\n",
    "    else:\n",
    "        print(\"File Already exists\")\n",
    "        \n",
    "def uncompressData(filename, name_of_folder=None):\n",
    "    print(\"Extracting Data\")\n",
    "    if(name_of_folder != None and  os.path.isdir(name_of_folder)):\n",
    "        print('Data already Extracted')\n",
    "    else:\n",
    "        with ZipFile(filename) as zipf:\n",
    "            zipf.extractall(name_of_folder)\n",
    "        print(\"Data Extracted\")"
   ]
  },
  {
   "cell_type": "code",
   "execution_count": 47,
   "metadata": {
    "scrolled": true
   },
   "outputs": [
    {
     "name": "stdout",
     "output_type": "stream",
     "text": [
      "File Already exists\n"
     ]
    }
   ],
   "source": [
    "Download_Dataset('https://s3-us-west-2.amazonaws.com/deepcognition/datasets/Soda_Bottles.zip', 'Soda_Bottles.zip')"
   ]
  },
  {
   "cell_type": "code",
   "execution_count": 52,
   "metadata": {},
   "outputs": [
    {
     "name": "stdout",
     "output_type": "stream",
     "text": [
      "Extracting Data\n"
     ]
    },
    {
     "ename": "TypeError",
     "evalue": "_isdir() takes exactly one argument (0 given)",
     "output_type": "error",
     "traceback": [
      "\u001b[1;31m---------------------------------------------------------------------------\u001b[0m",
      "\u001b[1;31mTypeError\u001b[0m                                 Traceback (most recent call last)",
      "\u001b[1;32m<ipython-input-52-0ad0bcc20dd2>\u001b[0m in \u001b[0;36m<module>\u001b[1;34m()\u001b[0m\n\u001b[1;32m----> 1\u001b[1;33m \u001b[0mUncompress_Data\u001b[0m\u001b[1;33m(\u001b[0m\u001b[1;34m'Soda_Bottles.zip'\u001b[0m\u001b[1;33m)\u001b[0m\u001b[1;33m\u001b[0m\u001b[0m\n\u001b[0m",
      "\u001b[1;32m<ipython-input-51-3e8806204291>\u001b[0m in \u001b[0;36mUncompress_Data\u001b[1;34m(filename, name_of_folder)\u001b[0m\n\u001b[0;32m     27\u001b[0m     \u001b[1;32mif\u001b[0m\u001b[1;33m(\u001b[0m\u001b[0mname_of_folder\u001b[0m \u001b[1;33m!=\u001b[0m \u001b[1;32mNone\u001b[0m \u001b[1;32mand\u001b[0m  \u001b[0mos\u001b[0m\u001b[1;33m.\u001b[0m\u001b[0mpath\u001b[0m\u001b[1;33m.\u001b[0m\u001b[0misdir\u001b[0m\u001b[1;33m(\u001b[0m\u001b[0mname_of_folder\u001b[0m\u001b[1;33m)\u001b[0m\u001b[1;33m)\u001b[0m\u001b[1;33m:\u001b[0m\u001b[1;33m\u001b[0m\u001b[0m\n\u001b[0;32m     28\u001b[0m         \u001b[0mprint\u001b[0m\u001b[1;33m(\u001b[0m\u001b[1;34m'Data already Extracted'\u001b[0m\u001b[1;33m)\u001b[0m\u001b[1;33m\u001b[0m\u001b[0m\n\u001b[1;32m---> 29\u001b[1;33m     \u001b[1;32melif\u001b[0m\u001b[1;33m(\u001b[0m\u001b[0mos\u001b[0m\u001b[1;33m.\u001b[0m\u001b[0mpath\u001b[0m\u001b[1;33m.\u001b[0m\u001b[0misdir\u001b[0m\u001b[1;33m(\u001b[0m\u001b[1;33m)\u001b[0m\u001b[1;33m)\u001b[0m\u001b[1;33m:\u001b[0m\u001b[1;33m\u001b[0m\u001b[0m\n\u001b[0m\u001b[0;32m     30\u001b[0m         \u001b[0mprint\u001b[0m\u001b[1;33m(\u001b[0m\u001b[1;34m\"Data already Extracted\"\u001b[0m\u001b[1;33m)\u001b[0m\u001b[1;33m\u001b[0m\u001b[0m\n\u001b[0;32m     31\u001b[0m     \u001b[1;32melse\u001b[0m\u001b[1;33m:\u001b[0m\u001b[1;33m\u001b[0m\u001b[0m\n",
      "\u001b[1;31mTypeError\u001b[0m: _isdir() takes exactly one argument (0 given)"
     ]
    }
   ],
   "source": [
    "Uncompress_Data('Soda_Bottles.zip')"
   ]
  },
  {
   "cell_type": "markdown",
   "metadata": {},
   "source": [
    "## Step 2: Read CSV"
   ]
  },
  {
   "cell_type": "code",
   "execution_count": 55,
   "metadata": {},
   "outputs": [],
   "source": [
    "def readCSV(filename):\n",
    "    df = pd.read_csv(filename)\n",
    "    return df"
   ]
  },
  {
   "cell_type": "code",
   "execution_count": 56,
   "metadata": {},
   "outputs": [
    {
     "data": {
      "text/html": [
       "<div>\n",
       "<style scoped>\n",
       "    .dataframe tbody tr th:only-of-type {\n",
       "        vertical-align: middle;\n",
       "    }\n",
       "\n",
       "    .dataframe tbody tr th {\n",
       "        vertical-align: top;\n",
       "    }\n",
       "\n",
       "    .dataframe thead th {\n",
       "        text-align: right;\n",
       "    }\n",
       "</style>\n",
       "<table border=\"1\" class=\"dataframe\">\n",
       "  <thead>\n",
       "    <tr style=\"text-align: right;\">\n",
       "      <th></th>\n",
       "      <th>Label</th>\n",
       "      <th>Filename</th>\n",
       "    </tr>\n",
       "  </thead>\n",
       "  <tbody>\n",
       "    <tr>\n",
       "      <th>0</th>\n",
       "      <td>MD.Diet</td>\n",
       "      <td>./MD.Diet/5653.jpg</td>\n",
       "    </tr>\n",
       "    <tr>\n",
       "      <th>1</th>\n",
       "      <td>MD.Diet</td>\n",
       "      <td>./MD.Diet/5647.jpg</td>\n",
       "    </tr>\n",
       "    <tr>\n",
       "      <th>2</th>\n",
       "      <td>MD.Diet</td>\n",
       "      <td>./MD.Diet/5690.jpg</td>\n",
       "    </tr>\n",
       "    <tr>\n",
       "      <th>3</th>\n",
       "      <td>MD.Diet</td>\n",
       "      <td>./MD.Diet/5684.jpg</td>\n",
       "    </tr>\n",
       "    <tr>\n",
       "      <th>4</th>\n",
       "      <td>MD.Diet</td>\n",
       "      <td>./MD.Diet/5479.jpg</td>\n",
       "    </tr>\n",
       "  </tbody>\n",
       "</table>\n",
       "</div>"
      ],
      "text/plain": [
       "     Label            Filename\n",
       "0  MD.Diet  ./MD.Diet/5653.jpg\n",
       "1  MD.Diet  ./MD.Diet/5647.jpg\n",
       "2  MD.Diet  ./MD.Diet/5690.jpg\n",
       "3  MD.Diet  ./MD.Diet/5684.jpg\n",
       "4  MD.Diet  ./MD.Diet/5479.jpg"
      ]
     },
     "execution_count": 56,
     "metadata": {},
     "output_type": "execute_result"
    }
   ],
   "source": [
    "df = readCSV('./Soda Bottles/train.csv') \n",
    "df.head()"
   ]
  },
  {
   "cell_type": "markdown",
   "metadata": {},
   "source": [
    "## Step 3: Seperate out Features and Labels"
   ]
  },
  {
   "cell_type": "code",
   "execution_count": 63,
   "metadata": {},
   "outputs": [],
   "source": [
    "def returnFeaturesAndLabels(dataframe , featureStartIndex, featureEndIndex, labelStartIndex, labelEndIndex):\n",
    "    return dataframe.iloc[:,featureStartIndex:featureEndIndex].values, dataframe.iloc[:,labelStartIndex:labelEndIndex].values"
   ]
  },
  {
   "cell_type": "code",
   "execution_count": 66,
   "metadata": {},
   "outputs": [
    {
     "name": "stdout",
     "output_type": "stream",
     "text": [
      "[['./MD.Diet/5653.jpg']\n",
      " ['./MD.Diet/5647.jpg']\n",
      " ['./MD.Diet/5690.jpg']\n",
      " ['./MD.Diet/5684.jpg']\n",
      " ['./MD.Diet/5479.jpg']]\n",
      "[['MD.Diet']\n",
      " ['MD.Diet']\n",
      " ['MD.Diet']\n",
      " ['MD.Diet']\n",
      " ['MD.Diet']]\n"
     ]
    }
   ],
   "source": [
    "X , y = returnFeaturesAndLabels(df,1,2,0,1)\n",
    "print(X[0:5])\n",
    "print(y[0:5])"
   ]
  },
  {
   "cell_type": "markdown",
   "metadata": {},
   "source": [
    "## Step 4: Visualize Data"
   ]
  },
  {
   "cell_type": "code",
   "execution_count": 96,
   "metadata": {},
   "outputs": [],
   "source": [
    "def displayRandomImage(X):\n",
    "    pass\n",
    "\n",
    "def totalImagesAndLabels(X, y):\n",
    "    print(\"Shape of Features is \", X.shape,\"Shape of Labels is \",y.shape)\n",
    "\n",
    "def displayClassesCount(df , colname):\n",
    "    abc= df.pivot_table(index = colname, aggfunc = len).sort_values(colname, ascending = False)\n",
    "    print(abc)\n",
    "    \n",
    "def displaySizeCount():\n",
    "    # Do it later\n",
    "    train_img_df['images'].map(lambda x: x.shape).value_counts()"
   ]
  },
  {
   "cell_type": "code",
   "execution_count": 91,
   "metadata": {},
   "outputs": [
    {
     "name": "stdout",
     "output_type": "stream",
     "text": [
      "          Filename\n",
      "Label             \n",
      "P.diet         850\n",
      "P.Zero         824\n",
      "P.Rsugar       825\n",
      "P.Orig         800\n",
      "P.Cherry       793\n",
      "MD.Orig        844\n",
      "MD.Diet        839\n",
      "M.Beer         840\n"
     ]
    }
   ],
   "source": [
    "displayClassesCount(df,'Label')\n",
    "\n",
    "#print(CheckClasses)"
   ]
  },
  {
   "cell_type": "code",
   "execution_count": 97,
   "metadata": {},
   "outputs": [
    {
     "name": "stdout",
     "output_type": "stream",
     "text": [
      "Shape of Features is  (6615, 1) Shape of Labels is  (6615, 1)\n"
     ]
    }
   ],
   "source": [
    "totalImagesAndLabels(X,y)"
   ]
  },
  {
   "cell_type": "markdown",
   "metadata": {},
   "source": [
    "## Step 4: One Hot/ Label Encode the Labels"
   ]
  },
  {
   "cell_type": "code",
   "execution_count": 99,
   "metadata": {},
   "outputs": [],
   "source": [
    "def labelEncode(labels):\n",
    "    labelencoder_y = LabelEncoder()\n",
    "    y = labelencoder_y.fit_transform(y)"
   ]
  },
  {
   "cell_type": "markdown",
   "metadata": {},
   "source": [
    "## Step 5: Train_Test_Split"
   ]
  },
  {
   "cell_type": "code",
   "execution_count": 101,
   "metadata": {},
   "outputs": [],
   "source": [
    "def split_dataset(X,y, testSize = 0.2):\n",
    "    X_train, X_test, y_train, y_test = train_test_split(X, y, test_size = testSize , shuffle=True)"
   ]
  },
  {
   "cell_type": "markdown",
   "metadata": {},
   "source": [
    "## Step 6: Load Images"
   ]
  },
  {
   "cell_type": "code",
   "execution_count": null,
   "metadata": {},
   "outputs": [],
   "source": [
    "## define generator\n",
    "\n",
    "def generator_new(X,y, batch_size=32):\n",
    "    total_samples = len(X)\n",
    "    while 1:\n",
    "    \n",
    "    for offset in range(0, total_samples, batch_size): # start, stop and step\n",
    "        batch_samples = X[offset:offset+batch_size]\n",
    "        y_samples = y[offset:offset+batch_size]\n",
    "        images= []\n",
    "        labels =[]\n",
    "        for i in range(len(batch_samples)):\n",
    "        #print(item[0])\n",
    "        path = \"./Soda Bottles/\"+batch_samples[i][2:]\n",
    "        #print(path)\n",
    "        #print(path)\n",
    "        local_image= cv2.cvtColor(cv2.imread(path), cv2.COLOR_BGR2RGB)\n",
    "        local_image = cv2.resize(local_image, (0,0), fx=0.5, fy=0.5) \n",
    "        images.append(local_image)\n",
    "        labels.append(y_samples[i])\n",
    "        X_train = np.array(images)\n",
    "        y_train = np.array(labels)\n",
    "        #y_train = one_hot_encode_labels(y_train)\n",
    "\n",
    "        yield sklearn.utils.shuffle(X_train, y_train)"
   ]
  },
  {
   "cell_type": "markdown",
   "metadata": {},
   "source": [
    "## Step 7: Define Model"
   ]
  },
  {
   "cell_type": "code",
   "execution_count": null,
   "metadata": {},
   "outputs": [],
   "source": [
    "## define model here\n",
    "\n",
    "def get_model_new():\n",
    "  model = Sequential()\n",
    "  model.add(Lambda(lambda x: (x / 255.0) - 0.5, input_shape=(240,320,3)))\n",
    "  model.add(Cropping2D(cropping=((50,0),(50,50))))\n",
    "  model.add(Convolution2D(24,5,5,subsample=(2,2)))\n",
    "  model.add(Activation('relu'))\n",
    "  model.add(Flatten())\n",
    "  model.add(Dense(100))\n",
    "  model.add(Activation('relu'))\n",
    "  model.add(Dense(8))\n",
    "  model.add(Activation('sigmoid'))\n",
    "  return model"
   ]
  },
  {
   "cell_type": "markdown",
   "metadata": {},
   "source": [
    "## Step 8: Set Hyperparameters"
   ]
  },
  {
   "cell_type": "code",
   "execution_count": null,
   "metadata": {},
   "outputs": [],
   "source": [
    "## Step 8: Define Hyperparameters\n",
    "def get_optimizer():\n",
    "    return 'Adam'\n",
    "\n",
    "def is_custom_loss_function():\n",
    "    return False\n",
    "\n",
    "def get_loss_function():\n",
    "    return 'sparse_categorical_crossentropy'\n",
    "\n",
    "def get_batch_size():\n",
    "    return 32\n",
    "\n",
    "def get_num_epoch():\n",
    "    return 10"
   ]
  },
  {
   "cell_type": "markdown",
   "metadata": {},
   "source": [
    "## Step 9: Compile Model"
   ]
  },
  {
   "cell_type": "code",
   "execution_count": null,
   "metadata": {},
   "outputs": [],
   "source": [
    "model = get_model()\n",
    "model.compile(loss=get_loss_function(),optimizer=get_optimizer(), metrics=['accuracy','categorical_accuracy'])"
   ]
  },
  {
   "cell_type": "markdown",
   "metadata": {},
   "source": [
    "## Step 10: Train Model"
   ]
  },
  {
   "cell_type": "code",
   "execution_count": null,
   "metadata": {},
   "outputs": [],
   "source": [
    "model.fit_generator(train_generator, steps_per_epoch= len(X_train)//get_batch_size(), validation_data=valid_generator,   nb_val_samples=len(X_test)//get_batch_size(), nb_epoch=5, verbose=1)\n"
   ]
  },
  {
   "cell_type": "markdown",
   "metadata": {},
   "source": [
    "## Step 11: Visualize loss and Peformance"
   ]
  },
  {
   "cell_type": "code",
   "execution_count": null,
   "metadata": {},
   "outputs": [],
   "source": []
  },
  {
   "cell_type": "markdown",
   "metadata": {},
   "source": [
    "## Step 12: Inference"
   ]
  },
  {
   "cell_type": "code",
   "execution_count": null,
   "metadata": {},
   "outputs": [],
   "source": [
    "## check performance on the training set"
   ]
  },
  {
   "cell_type": "markdown",
   "metadata": {},
   "source": [
    "## Step 13: Save Model"
   ]
  },
  {
   "cell_type": "code",
   "execution_count": null,
   "metadata": {},
   "outputs": [],
   "source": []
  }
 ],
 "metadata": {
  "kernelspec": {
   "display_name": "Python 3",
   "language": "python",
   "name": "python3"
  },
  "language_info": {
   "codemirror_mode": {
    "name": "ipython",
    "version": 3
   },
   "file_extension": ".py",
   "mimetype": "text/x-python",
   "name": "python",
   "nbconvert_exporter": "python",
   "pygments_lexer": "ipython3",
   "version": "3.6.5"
  }
 },
 "nbformat": 4,
 "nbformat_minor": 2
}
